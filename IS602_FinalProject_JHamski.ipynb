{
 "cells": [
  {
   "cell_type": "markdown",
   "metadata": {},
   "source": [
    "## IS602 | Adv. Programming Techniques | Fall 2015\n",
    "### Final Project\n",
    "#### James Hamski | james.hamski@spsmail.cuny.edu"
   ]
  },
  {
   "cell_type": "markdown",
   "metadata": {},
   "source": [
    "If you are under 40 years old, you expect your income to grow more in the coming year than older age groups. The median point prediction has ranged from a low in June of 2013 of 2.78% to a high of 4.64% in June of 2015. I find this survey fascinating. Who doesn’t think they’re going to get a raise in the next year? What income are they at? More specifically, what dollar amount does 4.64% equate to?\n",
    "\n",
    "Using monthly data from the Federal Reserve Bank of New York’s Survey of Consumer Expectations – November 2015, I will investigate the above questions and if expectations of income growth have a statistically significant relationship with other economic indicators such as unemployment, job openings, and inflation expectations.  "
   ]
  },
  {
   "cell_type": "markdown",
   "metadata": {},
   "source": [
    "### 1. Configuring Analysis Environment"
   ]
  },
  {
   "cell_type": "markdown",
   "metadata": {},
   "source": [
    "*Module Imports*"
   ]
  },
  {
   "cell_type": "code",
   "execution_count": 3,
   "metadata": {
    "collapsed": false
   },
   "outputs": [
    {
     "ename": "ImportError",
     "evalue": "libSM.so.6: cannot open shared object file: No such file or directory",
     "output_type": "error",
     "traceback": [
      "\u001b[1;31m---------------------------------------------------------------------------\u001b[0m",
      "\u001b[1;31mImportError\u001b[0m                               Traceback (most recent call last)",
      "\u001b[1;32m<ipython-input-3-bf65a6123d0f>\u001b[0m in \u001b[0;36m<module>\u001b[1;34m()\u001b[0m\n\u001b[0;32m      1\u001b[0m \u001b[1;32mimport\u001b[0m \u001b[0mpandas\u001b[0m \u001b[1;32mas\u001b[0m \u001b[0mpd\u001b[0m\u001b[1;33m\u001b[0m\u001b[0m\n\u001b[0;32m      2\u001b[0m \u001b[1;32mimport\u001b[0m \u001b[0mnumpy\u001b[0m \u001b[1;32mas\u001b[0m \u001b[0mnp\u001b[0m\u001b[1;33m\u001b[0m\u001b[0m\n\u001b[1;32m----> 3\u001b[1;33m \u001b[1;32mimport\u001b[0m \u001b[0mmatplotlib\u001b[0m\u001b[1;33m.\u001b[0m\u001b[0mpyplot\u001b[0m \u001b[1;32mas\u001b[0m \u001b[0mplt\u001b[0m\u001b[1;33m\u001b[0m\u001b[0m\n\u001b[0m",
      "\u001b[1;32m/home/ubuntu/anaconda2/lib/python2.7/site-packages/matplotlib/pyplot.py\u001b[0m in \u001b[0;36m<module>\u001b[1;34m()\u001b[0m\n\u001b[0;32m    112\u001b[0m \u001b[1;33m\u001b[0m\u001b[0m\n\u001b[0;32m    113\u001b[0m \u001b[1;32mfrom\u001b[0m \u001b[0mmatplotlib\u001b[0m\u001b[1;33m.\u001b[0m\u001b[0mbackends\u001b[0m \u001b[1;32mimport\u001b[0m \u001b[0mpylab_setup\u001b[0m\u001b[1;33m\u001b[0m\u001b[0m\n\u001b[1;32m--> 114\u001b[1;33m \u001b[0m_backend_mod\u001b[0m\u001b[1;33m,\u001b[0m \u001b[0mnew_figure_manager\u001b[0m\u001b[1;33m,\u001b[0m \u001b[0mdraw_if_interactive\u001b[0m\u001b[1;33m,\u001b[0m \u001b[0m_show\u001b[0m \u001b[1;33m=\u001b[0m \u001b[0mpylab_setup\u001b[0m\u001b[1;33m(\u001b[0m\u001b[1;33m)\u001b[0m\u001b[1;33m\u001b[0m\u001b[0m\n\u001b[0m\u001b[0;32m    115\u001b[0m \u001b[1;33m\u001b[0m\u001b[0m\n\u001b[0;32m    116\u001b[0m \u001b[0m_IP_REGISTERED\u001b[0m \u001b[1;33m=\u001b[0m \u001b[0mNone\u001b[0m\u001b[1;33m\u001b[0m\u001b[0m\n",
      "\u001b[1;32m/home/ubuntu/anaconda2/lib/python2.7/site-packages/matplotlib/backends/__init__.pyc\u001b[0m in \u001b[0;36mpylab_setup\u001b[1;34m()\u001b[0m\n\u001b[0;32m     30\u001b[0m     \u001b[1;31m# imports. 0 means only perform absolute imports.\u001b[0m\u001b[1;33m\u001b[0m\u001b[1;33m\u001b[0m\u001b[0m\n\u001b[0;32m     31\u001b[0m     backend_mod = __import__(backend_name,\n\u001b[1;32m---> 32\u001b[1;33m                              globals(),locals(),[backend_name],0)\n\u001b[0m\u001b[0;32m     33\u001b[0m \u001b[1;33m\u001b[0m\u001b[0m\n\u001b[0;32m     34\u001b[0m     \u001b[1;31m# Things we pull in from all backends\u001b[0m\u001b[1;33m\u001b[0m\u001b[1;33m\u001b[0m\u001b[0m\n",
      "\u001b[1;32m/home/ubuntu/anaconda2/lib/python2.7/site-packages/matplotlib/backends/backend_qt4agg.py\u001b[0m in \u001b[0;36m<module>\u001b[1;34m()\u001b[0m\n\u001b[0;32m     16\u001b[0m \u001b[1;33m\u001b[0m\u001b[0m\n\u001b[0;32m     17\u001b[0m \u001b[1;33m\u001b[0m\u001b[0m\n\u001b[1;32m---> 18\u001b[1;33m \u001b[1;32mfrom\u001b[0m \u001b[1;33m.\u001b[0m\u001b[0mbackend_qt5agg\u001b[0m \u001b[1;32mimport\u001b[0m \u001b[0mFigureCanvasQTAggBase\u001b[0m \u001b[1;32mas\u001b[0m \u001b[0m_FigureCanvasQTAggBase\u001b[0m\u001b[1;33m\u001b[0m\u001b[0m\n\u001b[0m\u001b[0;32m     19\u001b[0m \u001b[1;33m\u001b[0m\u001b[0m\n\u001b[0;32m     20\u001b[0m \u001b[1;32mfrom\u001b[0m \u001b[1;33m.\u001b[0m\u001b[0mbackend_agg\u001b[0m \u001b[1;32mimport\u001b[0m \u001b[0mFigureCanvasAgg\u001b[0m\u001b[1;33m\u001b[0m\u001b[0m\n",
      "\u001b[1;32m/home/ubuntu/anaconda2/lib/python2.7/site-packages/matplotlib/backends/backend_qt5agg.py\u001b[0m in \u001b[0;36m<module>\u001b[1;34m()\u001b[0m\n\u001b[0;32m     13\u001b[0m \u001b[1;33m\u001b[0m\u001b[0m\n\u001b[0;32m     14\u001b[0m \u001b[1;32mfrom\u001b[0m \u001b[1;33m.\u001b[0m\u001b[0mbackend_agg\u001b[0m \u001b[1;32mimport\u001b[0m \u001b[0mFigureCanvasAgg\u001b[0m\u001b[1;33m\u001b[0m\u001b[0m\n\u001b[1;32m---> 15\u001b[1;33m \u001b[1;32mfrom\u001b[0m \u001b[1;33m.\u001b[0m\u001b[0mbackend_qt5\u001b[0m \u001b[1;32mimport\u001b[0m \u001b[0mQtCore\u001b[0m\u001b[1;33m\u001b[0m\u001b[0m\n\u001b[0m\u001b[0;32m     16\u001b[0m \u001b[1;32mfrom\u001b[0m \u001b[1;33m.\u001b[0m\u001b[0mbackend_qt5\u001b[0m \u001b[1;32mimport\u001b[0m \u001b[0mQtGui\u001b[0m\u001b[1;33m\u001b[0m\u001b[0m\n\u001b[0;32m     17\u001b[0m \u001b[1;32mfrom\u001b[0m \u001b[1;33m.\u001b[0m\u001b[0mbackend_qt5\u001b[0m \u001b[1;32mimport\u001b[0m \u001b[0mFigureManagerQT\u001b[0m\u001b[1;33m\u001b[0m\u001b[0m\n",
      "\u001b[1;32m/home/ubuntu/anaconda2/lib/python2.7/site-packages/matplotlib/backends/backend_qt5.py\u001b[0m in \u001b[0;36m<module>\u001b[1;34m()\u001b[0m\n\u001b[0;32m     29\u001b[0m     \u001b[0mfigureoptions\u001b[0m \u001b[1;33m=\u001b[0m \u001b[0mNone\u001b[0m\u001b[1;33m\u001b[0m\u001b[0m\n\u001b[0;32m     30\u001b[0m \u001b[1;33m\u001b[0m\u001b[0m\n\u001b[1;32m---> 31\u001b[1;33m \u001b[1;32mfrom\u001b[0m \u001b[1;33m.\u001b[0m\u001b[0mqt_compat\u001b[0m \u001b[1;32mimport\u001b[0m \u001b[0mQtCore\u001b[0m\u001b[1;33m,\u001b[0m \u001b[0mQtGui\u001b[0m\u001b[1;33m,\u001b[0m \u001b[0mQtWidgets\u001b[0m\u001b[1;33m,\u001b[0m \u001b[0m_getSaveFileName\u001b[0m\u001b[1;33m,\u001b[0m \u001b[0m__version__\u001b[0m\u001b[1;33m\u001b[0m\u001b[0m\n\u001b[0m\u001b[0;32m     32\u001b[0m \u001b[1;32mfrom\u001b[0m \u001b[0mmatplotlib\u001b[0m\u001b[1;33m.\u001b[0m\u001b[0mbackends\u001b[0m\u001b[1;33m.\u001b[0m\u001b[0mqt_editor\u001b[0m\u001b[1;33m.\u001b[0m\u001b[0mformsubplottool\u001b[0m \u001b[1;32mimport\u001b[0m \u001b[0mUiSubplotTool\u001b[0m\u001b[1;33m\u001b[0m\u001b[0m\n\u001b[0;32m     33\u001b[0m \u001b[1;33m\u001b[0m\u001b[0m\n",
      "\u001b[1;32m/home/ubuntu/anaconda2/lib/python2.7/site-packages/matplotlib/backends/qt_compat.py\u001b[0m in \u001b[0;36m<module>\u001b[1;34m()\u001b[0m\n\u001b[0;32m    122\u001b[0m     \u001b[1;31m# have been changed in the above if block\u001b[0m\u001b[1;33m\u001b[0m\u001b[1;33m\u001b[0m\u001b[0m\n\u001b[0;32m    123\u001b[0m     \u001b[1;32mif\u001b[0m \u001b[0mQT_API\u001b[0m \u001b[1;32min\u001b[0m \u001b[1;33m[\u001b[0m\u001b[0mQT_API_PYQT\u001b[0m\u001b[1;33m,\u001b[0m \u001b[0mQT_API_PYQTv2\u001b[0m\u001b[1;33m]\u001b[0m\u001b[1;33m:\u001b[0m  \u001b[1;31m# PyQt4 API\u001b[0m\u001b[1;33m\u001b[0m\u001b[0m\n\u001b[1;32m--> 124\u001b[1;33m         \u001b[1;32mfrom\u001b[0m \u001b[0mPyQt4\u001b[0m \u001b[1;32mimport\u001b[0m \u001b[0mQtCore\u001b[0m\u001b[1;33m,\u001b[0m \u001b[0mQtGui\u001b[0m\u001b[1;33m\u001b[0m\u001b[0m\n\u001b[0m\u001b[0;32m    125\u001b[0m \u001b[1;33m\u001b[0m\u001b[0m\n\u001b[0;32m    126\u001b[0m         \u001b[1;32mtry\u001b[0m\u001b[1;33m:\u001b[0m\u001b[1;33m\u001b[0m\u001b[0m\n",
      "\u001b[1;31mImportError\u001b[0m: libSM.so.6: cannot open shared object file: No such file or directory"
     ]
    }
   ],
   "source": [
    "import pandas as pd\n",
    "import numpy as np\n",
    "import matplotlib.pyplot as plt"
   ]
  },
  {
   "cell_type": "markdown",
   "metadata": {},
   "source": [
    "### 2. Data Import\n"
   ]
  },
  {
   "cell_type": "markdown",
   "metadata": {},
   "source": [
    "Data for this project comes from the Federal Reserve Bank of New York’s (FRBNY) Survey of Consumer Expectations. \n",
    "\n",
    "These data are available in Excel format from the FRBNY's website. Pandas does allow for reading in Excel files directly from a URL using read_excel(). However, since these files are pretty large, I downloaded them to the AWS instance to speed future imports. This means using a Linux shell command via the Notebook by preceeding it with !. \n",
    "\n",
    "While I didn't precisely time it, the 60MB 'microdata' file download seems to be significantly faster on the AWS instance compared to downloading via "
   ]
  },
  {
   "cell_type": "code",
   "execution_count": null,
   "metadata": {
    "collapsed": true
   },
   "outputs": [],
   "source": [
    "!wget https://www.newyorkfed.org/medialibrary/Interactives/sce/sce/downloads/data/FRBNY-SCE-Public-Microdata-Complete.xlsx\n",
    "!wget https://www.newyorkfed.org/medialibrary/interactives/sce/sce/downloads/data/FRBNY-SCE-Data.xls?version=2.1.3.9"
   ]
  },
  {
   "cell_type": "code",
   "execution_count": 4,
   "metadata": {
    "collapsed": false
   },
   "outputs": [
    {
     "name": "stdout",
     "output_type": "stream",
     "text": [
      "total 23108\r\n",
      "-rw-rw-r-- 1 ubuntu ubuntu   259072 Nov 18 15:40 FRBNY-SCE-Data.xls?version=2.1.3.9\r\n",
      "-rw-rw-r-- 1 ubuntu ubuntu 23367769 Nov 18 15:41 FRBNY-SCE-Public-Microdata-Complete.xlsx\r\n",
      "-rw-rw-r-- 1 ubuntu ubuntu    23567 Nov 28 22:40 IS602_FinalProject_JHamski.ipynb\r\n",
      "-rw-rw-r-- 1 ubuntu ubuntu      118 Nov 28 20:11 README.md\r\n"
     ]
    }
   ],
   "source": [
    "#confirm the files appear in the active directory\n",
    "!ls -l"
   ]
  },
  {
   "cell_type": "code",
   "execution_count": 17,
   "metadata": {
    "collapsed": false
   },
   "outputs": [],
   "source": [
    "data_excel_1 = 'FRBNY-SCE-Data.xls?version=2.1.3.9'\n",
    "data_results = pd.read_excel(data_excel_1, 'Earnings growth', header=3, skip_rows=4)\n",
    "data_results_demo = pd.read_excel(data_excel_1, 'Earnings growth Demo', header=3, skip_rows=4, index_col=0)"
   ]
  },
  {
   "cell_type": "code",
   "execution_count": 13,
   "metadata": {
    "collapsed": false
   },
   "outputs": [],
   "source": [
    "data_excel_2 = 'FRBNY-SCE-Public-Microdata-Complete.xlsx'\n",
    "microdata = pd.read_excel(data_excel_2, 'Data', header=1, skip_rows=2, index_col=0)\n"
   ]
  },
  {
   "cell_type": "markdown",
   "metadata": {},
   "source": [
    "### 3. Data Cleaning and Formatting"
   ]
  },
  {
   "cell_type": "code",
   "execution_count": 18,
   "metadata": {
    "collapsed": false
   },
   "outputs": [
    {
     "data": {
      "text/html": [
       "<div>\n",
       "<table border=\"1\" class=\"dataframe\">\n",
       "  <thead>\n",
       "    <tr style=\"text-align: right;\">\n",
       "      <th></th>\n",
       "      <th>Median expected earnings growth</th>\n",
       "      <th>25th Percentile expected earnings growth</th>\n",
       "      <th>75th Percentile expected earnings growth</th>\n",
       "      <th>Median point prediction</th>\n",
       "    </tr>\n",
       "  </thead>\n",
       "  <tbody>\n",
       "    <tr>\n",
       "      <th>201306</th>\n",
       "      <td>2.00</td>\n",
       "      <td>0.95</td>\n",
       "      <td>3.53</td>\n",
       "      <td>2.28</td>\n",
       "    </tr>\n",
       "    <tr>\n",
       "      <th>201307</th>\n",
       "      <td>2.00</td>\n",
       "      <td>1.00</td>\n",
       "      <td>3.02</td>\n",
       "      <td>2.38</td>\n",
       "    </tr>\n",
       "    <tr>\n",
       "      <th>201308</th>\n",
       "      <td>2.07</td>\n",
       "      <td>1.00</td>\n",
       "      <td>3.55</td>\n",
       "      <td>2.39</td>\n",
       "    </tr>\n",
       "    <tr>\n",
       "      <th>201309</th>\n",
       "      <td>2.00</td>\n",
       "      <td>1.00</td>\n",
       "      <td>3.52</td>\n",
       "      <td>2.20</td>\n",
       "    </tr>\n",
       "    <tr>\n",
       "      <th>201310</th>\n",
       "      <td>1.90</td>\n",
       "      <td>1.00</td>\n",
       "      <td>3.61</td>\n",
       "      <td>2.15</td>\n",
       "    </tr>\n",
       "  </tbody>\n",
       "</table>\n",
       "</div>"
      ],
      "text/plain": [
       "        Median expected earnings growth  \\\n",
       "201306                             2.00   \n",
       "201307                             2.00   \n",
       "201308                             2.07   \n",
       "201309                             2.00   \n",
       "201310                             1.90   \n",
       "\n",
       "        25th Percentile expected earnings growth  \\\n",
       "201306                                      0.95   \n",
       "201307                                      1.00   \n",
       "201308                                      1.00   \n",
       "201309                                      1.00   \n",
       "201310                                      1.00   \n",
       "\n",
       "        75th Percentile expected earnings growth  Median point prediction  \n",
       "201306                                      3.53                     2.28  \n",
       "201307                                      3.02                     2.38  \n",
       "201308                                      3.55                     2.39  \n",
       "201309                                      3.52                     2.20  \n",
       "201310                                      3.61                     2.15  "
      ]
     },
     "execution_count": 18,
     "metadata": {},
     "output_type": "execute_result"
    }
   ],
   "source": [
    "data_results.head()"
   ]
  },
  {
   "cell_type": "code",
   "execution_count": 19,
   "metadata": {
    "collapsed": false
   },
   "outputs": [
    {
     "data": {
      "text/plain": [
       "Median expected earnings growth             float64\n",
       "25th Percentile expected earnings growth    float64\n",
       "75th Percentile expected earnings growth    float64\n",
       "Median point prediction                     float64\n",
       "dtype: object"
      ]
     },
     "execution_count": 19,
     "metadata": {},
     "output_type": "execute_result"
    }
   ],
   "source": [
    "data_results.dtypes"
   ]
  },
  {
   "cell_type": "code",
   "execution_count": 9,
   "metadata": {
    "collapsed": false
   },
   "outputs": [
    {
     "data": {
      "text/html": [
       "<div>\n",
       "<table border=\"1\" class=\"dataframe\">\n",
       "  <thead>\n",
       "    <tr style=\"text-align: right;\">\n",
       "      <th></th>\n",
       "      <th>Age Under 40</th>\n",
       "      <th>Age 40-60</th>\n",
       "      <th>Age Over 60</th>\n",
       "      <th>Education High School or Less</th>\n",
       "      <th>Education Some College</th>\n",
       "      <th>Education BA or Higher</th>\n",
       "      <th>Income under 50k</th>\n",
       "      <th>Income 50-100k</th>\n",
       "      <th>Income Over 100k</th>\n",
       "      <th>Numeracy Low</th>\n",
       "      <th>Numeracy High</th>\n",
       "      <th>Region West</th>\n",
       "      <th>Region Midwest</th>\n",
       "      <th>Region South</th>\n",
       "      <th>Region Northeast</th>\n",
       "    </tr>\n",
       "  </thead>\n",
       "  <tbody>\n",
       "    <tr>\n",
       "      <th>201306</th>\n",
       "      <td>3.00</td>\n",
       "      <td>1.46</td>\n",
       "      <td>1.29</td>\n",
       "      <td>1.54</td>\n",
       "      <td>1.71</td>\n",
       "      <td>2.31</td>\n",
       "      <td>1.28</td>\n",
       "      <td>2.11</td>\n",
       "      <td>2.28</td>\n",
       "      <td>2.00</td>\n",
       "      <td>2.00</td>\n",
       "      <td>1.55</td>\n",
       "      <td>2.50</td>\n",
       "      <td>1.54</td>\n",
       "      <td>1.95</td>\n",
       "    </tr>\n",
       "    <tr>\n",
       "      <th>201307</th>\n",
       "      <td>2.62</td>\n",
       "      <td>1.45</td>\n",
       "      <td>1.29</td>\n",
       "      <td>2.00</td>\n",
       "      <td>1.27</td>\n",
       "      <td>2.42</td>\n",
       "      <td>1.55</td>\n",
       "      <td>1.63</td>\n",
       "      <td>2.00</td>\n",
       "      <td>1.00</td>\n",
       "      <td>2.19</td>\n",
       "      <td>1.29</td>\n",
       "      <td>2.45</td>\n",
       "      <td>1.40</td>\n",
       "      <td>2.00</td>\n",
       "    </tr>\n",
       "    <tr>\n",
       "      <th>201308</th>\n",
       "      <td>2.91</td>\n",
       "      <td>1.94</td>\n",
       "      <td>1.29</td>\n",
       "      <td>2.00</td>\n",
       "      <td>2.15</td>\n",
       "      <td>2.38</td>\n",
       "      <td>2.03</td>\n",
       "      <td>2.00</td>\n",
       "      <td>2.45</td>\n",
       "      <td>2.00</td>\n",
       "      <td>2.19</td>\n",
       "      <td>2.03</td>\n",
       "      <td>2.37</td>\n",
       "      <td>2.15</td>\n",
       "      <td>2.00</td>\n",
       "    </tr>\n",
       "    <tr>\n",
       "      <th>201309</th>\n",
       "      <td>2.50</td>\n",
       "      <td>2.00</td>\n",
       "      <td>1.46</td>\n",
       "      <td>2.00</td>\n",
       "      <td>2.00</td>\n",
       "      <td>2.45</td>\n",
       "      <td>1.61</td>\n",
       "      <td>2.00</td>\n",
       "      <td>2.59</td>\n",
       "      <td>1.61</td>\n",
       "      <td>2.00</td>\n",
       "      <td>2.00</td>\n",
       "      <td>1.69</td>\n",
       "      <td>2.18</td>\n",
       "      <td>1.39</td>\n",
       "    </tr>\n",
       "    <tr>\n",
       "      <th>201310</th>\n",
       "      <td>2.45</td>\n",
       "      <td>1.60</td>\n",
       "      <td>1.60</td>\n",
       "      <td>1.55</td>\n",
       "      <td>1.46</td>\n",
       "      <td>2.42</td>\n",
       "      <td>1.46</td>\n",
       "      <td>1.58</td>\n",
       "      <td>2.50</td>\n",
       "      <td>1.55</td>\n",
       "      <td>2.00</td>\n",
       "      <td>2.25</td>\n",
       "      <td>1.87</td>\n",
       "      <td>1.75</td>\n",
       "      <td>1.75</td>\n",
       "    </tr>\n",
       "  </tbody>\n",
       "</table>\n",
       "</div>"
      ],
      "text/plain": [
       "        Age Under 40  Age 40-60  Age Over 60  Education High School or Less  \\\n",
       "201306          3.00       1.46         1.29                           1.54   \n",
       "201307          2.62       1.45         1.29                           2.00   \n",
       "201308          2.91       1.94         1.29                           2.00   \n",
       "201309          2.50       2.00         1.46                           2.00   \n",
       "201310          2.45       1.60         1.60                           1.55   \n",
       "\n",
       "        Education Some College  Education BA or Higher  Income under 50k  \\\n",
       "201306                    1.71                    2.31              1.28   \n",
       "201307                    1.27                    2.42              1.55   \n",
       "201308                    2.15                    2.38              2.03   \n",
       "201309                    2.00                    2.45              1.61   \n",
       "201310                    1.46                    2.42              1.46   \n",
       "\n",
       "        Income 50-100k  Income Over 100k  Numeracy Low  Numeracy High  \\\n",
       "201306            2.11              2.28          2.00           2.00   \n",
       "201307            1.63              2.00          1.00           2.19   \n",
       "201308            2.00              2.45          2.00           2.19   \n",
       "201309            2.00              2.59          1.61           2.00   \n",
       "201310            1.58              2.50          1.55           2.00   \n",
       "\n",
       "        Region West  Region Midwest  Region South  Region Northeast  \n",
       "201306         1.55            2.50          1.54              1.95  \n",
       "201307         1.29            2.45          1.40              2.00  \n",
       "201308         2.03            2.37          2.15              2.00  \n",
       "201309         2.00            1.69          2.18              1.39  \n",
       "201310         2.25            1.87          1.75              1.75  "
      ]
     },
     "execution_count": 9,
     "metadata": {},
     "output_type": "execute_result"
    }
   ],
   "source": [
    "data_results_demo.head()"
   ]
  },
  {
   "cell_type": "code",
   "execution_count": 12,
   "metadata": {
    "collapsed": false
   },
   "outputs": [
    {
     "data": {
      "text/html": [
       "<div>\n",
       "<table border=\"1\" class=\"dataframe\">\n",
       "  <thead>\n",
       "    <tr style=\"text-align: right;\">\n",
       "      <th></th>\n",
       "      <th>date</th>\n",
       "      <th>tenure</th>\n",
       "      <th>weight</th>\n",
       "      <th>Q1</th>\n",
       "      <th>Q2</th>\n",
       "      <th>Q3</th>\n",
       "      <th>Q4new</th>\n",
       "      <th>Q5new</th>\n",
       "      <th>Q6new</th>\n",
       "      <th>Q8v2</th>\n",
       "      <th>...</th>\n",
       "      <th>Q47</th>\n",
       "      <th>D1</th>\n",
       "      <th>D3</th>\n",
       "      <th>DSAME</th>\n",
       "      <th>_AGE_CAT</th>\n",
       "      <th>_NUM_CAT</th>\n",
       "      <th>_REGION_CAT</th>\n",
       "      <th>_EDU_CAT</th>\n",
       "      <th>_HH_INC_CAT</th>\n",
       "      <th>_HH_INC_CAT.1</th>\n",
       "    </tr>\n",
       "    <tr>\n",
       "      <th>userid</th>\n",
       "      <th></th>\n",
       "      <th></th>\n",
       "      <th></th>\n",
       "      <th></th>\n",
       "      <th></th>\n",
       "      <th></th>\n",
       "      <th></th>\n",
       "      <th></th>\n",
       "      <th></th>\n",
       "      <th></th>\n",
       "      <th></th>\n",
       "      <th></th>\n",
       "      <th></th>\n",
       "      <th></th>\n",
       "      <th></th>\n",
       "      <th></th>\n",
       "      <th></th>\n",
       "      <th></th>\n",
       "      <th></th>\n",
       "      <th></th>\n",
       "      <th></th>\n",
       "    </tr>\n",
       "  </thead>\n",
       "  <tbody>\n",
       "    <tr>\n",
       "      <th>70000220</th>\n",
       "      <td>201306</td>\n",
       "      <td>6</td>\n",
       "      <td>16.327999</td>\n",
       "      <td>3</td>\n",
       "      <td>3</td>\n",
       "      <td>50</td>\n",
       "      <td>20</td>\n",
       "      <td>10</td>\n",
       "      <td>15</td>\n",
       "      <td>1</td>\n",
       "      <td>...</td>\n",
       "      <td>3</td>\n",
       "      <td>1</td>\n",
       "      <td>2</td>\n",
       "      <td>NaN</td>\n",
       "      <td>Under 40</td>\n",
       "      <td>High</td>\n",
       "      <td>West</td>\n",
       "      <td>Some College</td>\n",
       "      <td>Under 50k</td>\n",
       "      <td>Under 50k</td>\n",
       "    </tr>\n",
       "    <tr>\n",
       "      <th>70000224</th>\n",
       "      <td>201306</td>\n",
       "      <td>7</td>\n",
       "      <td>0.228000</td>\n",
       "      <td>4</td>\n",
       "      <td>4</td>\n",
       "      <td>25</td>\n",
       "      <td>10</td>\n",
       "      <td>25</td>\n",
       "      <td>75</td>\n",
       "      <td>1</td>\n",
       "      <td>...</td>\n",
       "      <td>11</td>\n",
       "      <td>1</td>\n",
       "      <td>2</td>\n",
       "      <td>NaN</td>\n",
       "      <td>Over 60</td>\n",
       "      <td>High</td>\n",
       "      <td>Midwest</td>\n",
       "      <td>College</td>\n",
       "      <td>Over 100k</td>\n",
       "      <td>Over 100k</td>\n",
       "    </tr>\n",
       "    <tr>\n",
       "      <th>70000234</th>\n",
       "      <td>201306</td>\n",
       "      <td>6</td>\n",
       "      <td>4.066000</td>\n",
       "      <td>4</td>\n",
       "      <td>3</td>\n",
       "      <td>3</td>\n",
       "      <td>9</td>\n",
       "      <td>20</td>\n",
       "      <td>20</td>\n",
       "      <td>1</td>\n",
       "      <td>...</td>\n",
       "      <td>9</td>\n",
       "      <td>1</td>\n",
       "      <td>2</td>\n",
       "      <td>NaN</td>\n",
       "      <td>40 to 60</td>\n",
       "      <td>High</td>\n",
       "      <td>West</td>\n",
       "      <td>Some College</td>\n",
       "      <td>Over 100k</td>\n",
       "      <td>Over 100k</td>\n",
       "    </tr>\n",
       "    <tr>\n",
       "      <th>70000238</th>\n",
       "      <td>201306</td>\n",
       "      <td>6</td>\n",
       "      <td>3.035000</td>\n",
       "      <td>3</td>\n",
       "      <td>3</td>\n",
       "      <td>0</td>\n",
       "      <td>10</td>\n",
       "      <td>5</td>\n",
       "      <td>70</td>\n",
       "      <td>1</td>\n",
       "      <td>...</td>\n",
       "      <td>4</td>\n",
       "      <td>1</td>\n",
       "      <td>2</td>\n",
       "      <td>NaN</td>\n",
       "      <td>Over 60</td>\n",
       "      <td>Low</td>\n",
       "      <td>West</td>\n",
       "      <td>Some College</td>\n",
       "      <td>Under 50k</td>\n",
       "      <td>Under 50k</td>\n",
       "    </tr>\n",
       "    <tr>\n",
       "      <th>70000238</th>\n",
       "      <td>201307</td>\n",
       "      <td>7</td>\n",
       "      <td>1.867000</td>\n",
       "      <td>3</td>\n",
       "      <td>3</td>\n",
       "      <td>50</td>\n",
       "      <td>90</td>\n",
       "      <td>0</td>\n",
       "      <td>60</td>\n",
       "      <td>1</td>\n",
       "      <td>...</td>\n",
       "      <td>5</td>\n",
       "      <td>1</td>\n",
       "      <td>2</td>\n",
       "      <td>NaN</td>\n",
       "      <td>Over 60</td>\n",
       "      <td>Low</td>\n",
       "      <td>West</td>\n",
       "      <td>Some College</td>\n",
       "      <td>Under 50k</td>\n",
       "      <td>Under 50k</td>\n",
       "    </tr>\n",
       "  </tbody>\n",
       "</table>\n",
       "<p>5 rows × 188 columns</p>\n",
       "</div>"
      ],
      "text/plain": [
       "            date  tenure     weight  Q1  Q2  Q3  Q4new  Q5new  Q6new  Q8v2  \\\n",
       "userid                                                                       \n",
       "70000220  201306       6  16.327999   3   3  50     20     10     15     1   \n",
       "70000224  201306       7   0.228000   4   4  25     10     25     75     1   \n",
       "70000234  201306       6   4.066000   4   3   3      9     20     20     1   \n",
       "70000238  201306       6   3.035000   3   3   0     10      5     70     1   \n",
       "70000238  201307       7   1.867000   3   3  50     90      0     60     1   \n",
       "\n",
       "              ...        Q47  D1  D3  DSAME  _AGE_CAT  _NUM_CAT  _REGION_CAT  \\\n",
       "userid        ...                                                              \n",
       "70000220      ...          3   1   2    NaN  Under 40      High         West   \n",
       "70000224      ...         11   1   2    NaN   Over 60      High      Midwest   \n",
       "70000234      ...          9   1   2    NaN  40 to 60      High         West   \n",
       "70000238      ...          4   1   2    NaN   Over 60       Low         West   \n",
       "70000238      ...          5   1   2    NaN   Over 60       Low         West   \n",
       "\n",
       "              _EDU_CAT  _HH_INC_CAT  _HH_INC_CAT.1  \n",
       "userid                                              \n",
       "70000220  Some College    Under 50k      Under 50k  \n",
       "70000224       College    Over 100k      Over 100k  \n",
       "70000234  Some College    Over 100k      Over 100k  \n",
       "70000238  Some College    Under 50k      Under 50k  \n",
       "70000238  Some College    Under 50k      Under 50k  \n",
       "\n",
       "[5 rows x 188 columns]"
      ]
     },
     "execution_count": 12,
     "metadata": {},
     "output_type": "execute_result"
    }
   ],
   "source": [
    "microdata.head()"
   ]
  },
  {
   "cell_type": "markdown",
   "metadata": {},
   "source": [
    "### 4. Exploratory Data Analysis"
   ]
  },
  {
   "cell_type": "code",
   "execution_count": null,
   "metadata": {
    "collapsed": true
   },
   "outputs": [],
   "source": []
  },
  {
   "cell_type": "code",
   "execution_count": null,
   "metadata": {
    "collapsed": true
   },
   "outputs": [],
   "source": [
    "1+1"
   ]
  },
  {
   "cell_type": "markdown",
   "metadata": {},
   "source": [
    "### 5. Do Salary Expectations Vary With Macroeconomic Indicators?"
   ]
  },
  {
   "cell_type": "code",
   "execution_count": null,
   "metadata": {
    "collapsed": true
   },
   "outputs": [],
   "source": []
  },
  {
   "cell_type": "markdown",
   "metadata": {},
   "source": [
    "### Postscript\n",
    "\n",
    "I also used Github for source control. This forced me to learn the Git command line functions instead of the desktop GUI. "
   ]
  },
  {
   "cell_type": "code",
   "execution_count": null,
   "metadata": {
    "collapsed": true
   },
   "outputs": [],
   "source": []
  }
 ],
 "metadata": {
  "kernelspec": {
   "display_name": "Python 2",
   "language": "python",
   "name": "python2"
  },
  "language_info": {
   "codemirror_mode": {
    "name": "ipython",
    "version": 2
   },
   "file_extension": ".py",
   "mimetype": "text/x-python",
   "name": "python",
   "nbconvert_exporter": "python",
   "pygments_lexer": "ipython2",
   "version": "2.7.10"
  }
 },
 "nbformat": 4,
 "nbformat_minor": 0
}
