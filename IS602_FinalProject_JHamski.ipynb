{
 "cells": [
  {
   "cell_type": "markdown",
   "metadata": {},
   "source": [
    "## IS602 | Adv. Programming Techniques | Fall 2015\n",
    "### Final Project\n",
    "#### James Hamski | james.hamski@spsmail.cuny.edu"
   ]
  },
  {
   "cell_type": "markdown",
   "metadata": {},
   "source": [
    "If you are under 40 years old, you expect your income to grow more in the coming year than older age groups. The median point prediction has ranged from a low in June of 2013 of 2.78% to a high of 4.64% in June of 2015. I find this survey fascinating. What dollar amount does 4.64% equate to? Who doesn’t think they’re going to get a raise in the next year? What economic and demographic factors are important to this survey?\n",
    "\n",
    "Using monthly data from the Federal Reserve Bank of New York’s Survey of Consumer Expectations – November 2015, I will investigate the above questions and if expectations of income growth have a statistically significant relationship with other economic indicators such as unemployment, job openings, and inflation expectations.  "
   ]
  },
  {
   "cell_type": "markdown",
   "metadata": {},
   "source": [
    "### 1. Configuring Analysis Environment"
   ]
  },
  {
   "cell_type": "markdown",
   "metadata": {},
   "source": [
    "*Module Imports*"
   ]
  },
  {
   "cell_type": "code",
   "execution_count": null,
   "metadata": {
    "collapsed": false
   },
   "outputs": [],
   "source": [
    "import pandas as pd\n",
    "import numpy as np\n",
    "import matplotlib.pyplot as plt\n",
    "%matplotlib inline"
   ]
  },
  {
   "cell_type": "markdown",
   "metadata": {},
   "source": [
    "### 2. Data Import\n"
   ]
  },
  {
   "cell_type": "markdown",
   "metadata": {},
   "source": [
    "Data for this project comes from the Federal Reserve Bank of New York’s (FRBNY) Survey of Consumer Expectations. \n",
    "\n",
    "These data are available in Excel format from the FRBNY's website. Pandas does allow for reading in Excel files directly from a URL using read_excel(). However, since these files are pretty large, I downloaded them to the AWS instance to speed future imports. This means using a Linux shell command via the Notebook by preceeding it with !. \n",
    "\n",
    "While I didn't precisely time it, the 60MB 'microdata' file download seems to be significantly faster on the AWS instance compared to downloading via "
   ]
  },
  {
   "cell_type": "code",
   "execution_count": null,
   "metadata": {
    "collapsed": true
   },
   "outputs": [],
   "source": [
    "!rm FRBNY-SCE-Data.xls?version=2.1.3.9\n",
    "!rm FRBNY-SCE-Public-Microdata-Complete.xlsx"
   ]
  },
  {
   "cell_type": "code",
   "execution_count": null,
   "metadata": {
    "collapsed": false
   },
   "outputs": [],
   "source": [
    "!ls -lh"
   ]
  },
  {
   "cell_type": "code",
   "execution_count": null,
   "metadata": {
    "collapsed": false
   },
   "outputs": [],
   "source": [
    "!wget https://www.newyorkfed.org/medialibrary/Interactives/sce/sce/downloads/data/FRBNY-SCE-Public-Microdata-Complete.xlsx\n",
    "!wget https://www.newyorkfed.org/medialibrary/interactives/sce/sce/downloads/data/FRBNY-SCE-Data.xls?version=2.1.3.9"
   ]
  },
  {
   "cell_type": "code",
   "execution_count": 2,
   "metadata": {
    "collapsed": false
   },
   "outputs": [
    {
     "name": "stdout",
     "output_type": "stream",
     "text": [
      "total 26M\r\n",
      "-rw-rw-r-- 1 ubuntu ubuntu 263K Dec  2 17:38 FRBNY-SCE-Data.xls?version=2.1.3.9\r\n",
      "-rw-rw-r-- 1 ubuntu ubuntu  25M Dec 11 21:27 FRBNY-SCE-Public-Microdata-Complete.xlsx\r\n",
      "-rw-rw-r-- 1 ubuntu ubuntu  13K Dec 18 21:21 IS602_FinalProject_JHamski.ipynb\r\n",
      "-rw-rw-r-- 1 ubuntu ubuntu  118 Nov 28 20:11 README.md\r\n",
      "-rw-rw-r-- 1 ubuntu ubuntu  18K Dec  6 16:23 test.png\r\n"
     ]
    }
   ],
   "source": [
    "#confirm the files appear in the active directory\n",
    "!ls -lh"
   ]
  },
  {
   "cell_type": "code",
   "execution_count": null,
   "metadata": {
    "collapsed": false
   },
   "outputs": [],
   "source": [
    "data_excel_1 = 'FRBNY-SCE-Data.xls?version=2.1.3.9'\n",
    "#headers1 = ['month', 'median_exp_growth', '25th_exp_growth', '75th_exp_growth', 'median_point_prediction']\n",
    "data_results = pd.read_excel(data_excel_1, 'Earnings growth', header=3, skip_rows=4, parse_dates=True, index_col=None)\n",
    "data_results_demo = pd.read_excel(data_excel_1, 'Earnings growth Demo', header=3, skip_rows=4, index_col=None)"
   ]
  },
  {
   "cell_type": "code",
   "execution_count": null,
   "metadata": {
    "collapsed": false
   },
   "outputs": [],
   "source": [
    "data_excel_2 = 'FRBNY-SCE-Public-Microdata-Complete.xlsx'\n",
    "microdata = pd.read_excel(data_excel_2, 'Data', header=1, skip_rows=2)"
   ]
  },
  {
   "cell_type": "markdown",
   "metadata": {},
   "source": [
    "### 3. Data Cleaning and Formatting"
   ]
  },
  {
   "cell_type": "markdown",
   "metadata": {},
   "source": [
    "First, I reconfigure the data_results dataframe object. This shows summary statistics for the expected income growth survey results (median, 2th and 75th, median point prediction). "
   ]
  },
  {
   "cell_type": "code",
   "execution_count": null,
   "metadata": {
    "collapsed": false
   },
   "outputs": [],
   "source": [
    "data_results.reset_index(level=0, inplace=True)\n",
    "data_results.rename(columns = {'index':'Month'}, inplace = True)\n",
    "data_results['Month'] = pd.to_datetime(data_results['Month'], errors='coerce', format='%Y%m')\n",
    "data_results.head()"
   ]
  },
  {
   "cell_type": "code",
   "execution_count": null,
   "metadata": {
    "collapsed": false
   },
   "outputs": [],
   "source": [
    "data_results.dtypes"
   ]
  },
  {
   "cell_type": "code",
   "execution_count": null,
   "metadata": {
    "collapsed": false
   },
   "outputs": [],
   "source": [
    "data_results_demo.reset_index(level=0, inplace=True)\n",
    "data_results_demo.rename(columns = {'index':'Month'}, inplace = True)\n",
    "data_results_demo['Month'] = pd.to_datetime(data_results_demo['Month'], errors='coerce', format='%Y%m')\n",
    "data_results_demo.head()"
   ]
  },
  {
   "cell_type": "code",
   "execution_count": null,
   "metadata": {
    "collapsed": false
   },
   "outputs": [],
   "source": [
    "microdata['date'] = pd.to_datetime(microdata['date'], errors='coerce', format='%Y%m')\n",
    "microdata.rename(columns = {'date':'Month'}, inplace = True)\n",
    "microdata.head()"
   ]
  },
  {
   "cell_type": "markdown",
   "metadata": {},
   "source": [
    "### 4. Exploratory Data Analysis"
   ]
  },
  {
   "cell_type": "markdown",
   "metadata": {
    "collapsed": true
   },
   "source": [
    "Median expected earnings growth  \n",
    "Respondents who report working full time, part time, being temporarily laid off or on sick leave are\n",
    "asked for the percent chance that 12 months from now their earnings, before taxes and deductions,\n",
    "will have increased (decreased) by 12% or more; by 8% to 12%; by 4% to 8%; by 2% to 4%; by 0% to\n",
    "2% (assuming that 12 months from now they are working in the exact same job at the same place\n",
    "they currently work, and working the exact same number of hours). A generalized beta distribution is\n",
    "fitted to the responses of each survey participant and the mean of this distribution is calculated. We\n",
    "call this mean the respondent’s “expected earnings growth”. Variable 1 is the median across all\n",
    "respondents of their expected earnings growth rates. \n",
    "\n",
    "Median point prediction  \n",
    "Respondents who report working full time, part time, being temporarily laid off or on sick leave are\n",
    "asked by how much they expect their earnings to have increased/decreased 12 months from now\n",
    "(assuming that 12 months from now they are working in the exact same job at the same place they\n",
    "currently work, and working the exact same number of hours). This is a point prediction (a singlevalue\n",
    "forecast). Variable 3 is the median across all respondents of their point predictions. Given that\n",
    "almost all respondents, while asked about continuous variables, provide integer responses, throughout in computing medians based on point predictions we treat the responses as rounded\n",
    "grouped data and compute linearly interpolated medians."
   ]
  },
  {
   "cell_type": "code",
   "execution_count": null,
   "metadata": {
    "collapsed": false
   },
   "outputs": [],
   "source": [
    "data_results['75th Percentile expected earnings growth'].plot()"
   ]
  },
  {
   "cell_type": "code",
   "execution_count": null,
   "metadata": {
    "collapsed": false
   },
   "outputs": [],
   "source": [
    "n_bins = 10\n",
    "\n",
    "fig, axes = plt.subplots(nrows=2, ncols=2)\n",
    "ax0, ax1, ax2, ax3 = axes.flat\n",
    "\n",
    "ax0.hist(data_results['Median expected earnings growth'], n_bins, normed=1, histtype='bar')\n",
    "ax0.set_title('Median expected earnings growth')\n",
    "\n",
    "ax1.hist(data_results['25th Percentile expected earnings growth'], n_bins, normed=1, histtype='bar')\n",
    "ax1.set_title('25th Percentile expected earnings growth')\n",
    "\n",
    "ax2.hist(data_results['75th Percentile expected earnings growth'], n_bins, normed=1, histtype='bar')\n",
    "ax2.set_title('75th Percentile expected earnings growth')\n",
    "\n",
    "ax3.hist(data_results['Median point prediction'], n_bins, normed=1, histtype='bar')\n",
    "ax3.set_title('Median point prediction')\n",
    "\n",
    "plt.tight_layout()\n",
    "plt.show()"
   ]
  },
  {
   "cell_type": "markdown",
   "metadata": {},
   "source": [
    "### 5. Do Salary Expectations Vary With Macroeconomic Indicators?"
   ]
  },
  {
   "cell_type": "code",
   "execution_count": null,
   "metadata": {
    "collapsed": true
   },
   "outputs": [],
   "source": []
  },
  {
   "cell_type": "markdown",
   "metadata": {},
   "source": [
    "### Postscript\n",
    "\n",
    "I also used Github for source control. This forced me to learn the Git command line functions instead of the desktop GUI. "
   ]
  },
  {
   "cell_type": "code",
   "execution_count": null,
   "metadata": {
    "collapsed": true
   },
   "outputs": [],
   "source": []
  },
  {
   "cell_type": "markdown",
   "metadata": {},
   "source": [
    "### GitHub"
   ]
  },
  {
   "cell_type": "code",
   "execution_count": 4,
   "metadata": {
    "collapsed": false
   },
   "outputs": [],
   "source": [
    "!git add IS602_FinalProject_JHamski.ipynb\n",
    "#!git commit -m \"More data import and configuration, basic EDA started\"\n",
    "#!git push origin master"
   ]
  },
  {
   "cell_type": "code",
   "execution_count": 3,
   "metadata": {
    "collapsed": false
   },
   "outputs": [
    {
     "name": "stdout",
     "output_type": "stream",
     "text": [
      "On branch master\r\n",
      "Changes not staged for commit:\r\n",
      "  (use \"git add <file>...\" to update what will be committed)\r\n",
      "  (use \"git checkout -- <file>...\" to discard changes in working directory)\r\n",
      "\r\n",
      "\t\u001b[31mmodified:   IS602_FinalProject_JHamski.ipynb\u001b[m\r\n",
      "\r\n",
      "Untracked files:\r\n",
      "  (use \"git add <file>...\" to include in what will be committed)\r\n",
      "\r\n",
      "\t\u001b[31m.ipynb_checkpoints/\u001b[m\r\n",
      "\t\u001b[31mFRBNY-SCE-Data.xls?version=2.1.3.9\u001b[m\r\n",
      "\t\u001b[31mFRBNY-SCE-Public-Microdata-Complete.xlsx\u001b[m\r\n",
      "\t\u001b[31mtest.png\u001b[m\r\n",
      "\r\n",
      "no changes added to commit (use \"git add\" and/or \"git commit -a\")\r\n"
     ]
    }
   ],
   "source": [
    "!git status"
   ]
  },
  {
   "cell_type": "code",
   "execution_count": null,
   "metadata": {
    "collapsed": true
   },
   "outputs": [],
   "source": []
  }
 ],
 "metadata": {
  "kernelspec": {
   "display_name": "Python 2",
   "language": "python",
   "name": "python2"
  },
  "language_info": {
   "codemirror_mode": {
    "name": "ipython",
    "version": 2
   },
   "file_extension": ".py",
   "mimetype": "text/x-python",
   "name": "python",
   "nbconvert_exporter": "python",
   "pygments_lexer": "ipython2",
   "version": "2.7.10"
  }
 },
 "nbformat": 4,
 "nbformat_minor": 0
}
