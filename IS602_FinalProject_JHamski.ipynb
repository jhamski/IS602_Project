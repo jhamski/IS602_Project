{
 "cells": [
  {
   "cell_type": "markdown",
   "metadata": {},
   "source": [
    "## IS602 | Adv. Programming Techniques | Fall 2015\n",
    "### Final Project\n",
    "#### James Hamski | james.hamski@spsmail.cuny.edu"
   ]
  },
  {
   "cell_type": "markdown",
   "metadata": {},
   "source": [
    "If you are under 40 years old, you expect your income to grow more in the coming year than older age groups. The median point prediction has ranged from a low in June of 2013 of 2.78% to a high of 4.64% in June of 2015. I find this survey fascinating. What dollar amount does 4.64% equate to? Who doesn’t think they’re going to get a raise in the next year? What economic and demographic factors are important to this survey?"
   ]
  },
  {
   "cell_type": "markdown",
   "metadata": {},
   "source": [
    "### 1. Configuring Analysis Environment"
   ]
  },
  {
   "cell_type": "markdown",
   "metadata": {},
   "source": [
    "*Module Imports*"
   ]
  },
  {
   "cell_type": "code",
   "execution_count": 1,
   "metadata": {
    "collapsed": false
   },
   "outputs": [],
   "source": [
    "import pandas as pd\n",
    "import numpy as np\n",
    "import matplotlib.pyplot as plt\n",
    "%matplotlib inline"
   ]
  },
  {
   "cell_type": "markdown",
   "metadata": {},
   "source": [
    "### 2. Data Import\n"
   ]
  },
  {
   "cell_type": "markdown",
   "metadata": {},
   "source": [
    "Data for this project comes from the Federal Reserve Bank of New York’s (FRBNY) Survey of Consumer Expectations. \n",
    "\n",
    "These data are available in Excel format from the FRBNY's website. Pandas does allow for reading in Excel files directly from a URL using read_excel(). However, since these files are pretty large, I downloaded them to the AWS instance to speed future imports. This means using a Linux shell command via the Notebook by preceeding it with !. \n",
    "\n",
    "While I didn't precisely time it, the 60MB 'microdata' file download seems to be significantly faster on the AWS instance compared to downloading via "
   ]
  },
  {
   "cell_type": "code",
   "execution_count": 2,
   "metadata": {
    "collapsed": true
   },
   "outputs": [],
   "source": [
    "!rm FRBNY-SCE-Data.xls?version=2.1.3.9\n",
    "!rm FRBNY-SCE-Public-Microdata-Complete.xlsx"
   ]
  },
  {
   "cell_type": "code",
   "execution_count": 3,
   "metadata": {
    "collapsed": false
   },
   "outputs": [
    {
     "name": "stdout",
     "output_type": "stream",
     "text": [
      "total 36K\r\n",
      "-rw-rw-r-- 1 ubuntu ubuntu 11K Dec 18 21:38 IS602_FinalProject_JHamski.ipynb\r\n",
      "-rw-rw-r-- 1 ubuntu ubuntu 118 Nov 28 20:11 README.md\r\n",
      "-rw-rw-r-- 1 ubuntu ubuntu 18K Dec  6 16:23 test.png\r\n"
     ]
    }
   ],
   "source": [
    "!ls -lh"
   ]
  },
  {
   "cell_type": "code",
   "execution_count": 4,
   "metadata": {
    "collapsed": false
   },
   "outputs": [
    {
     "name": "stdout",
     "output_type": "stream",
     "text": [
      "--2015-12-19 14:19:37--  https://www.newyorkfed.org/medialibrary/Interactives/sce/sce/downloads/data/FRBNY-SCE-Public-Microdata-Complete.xlsx\n",
      "Resolving www.newyorkfed.org (www.newyorkfed.org)... 23.41.189.72, 2600:1409:a:382::5a2, 2600:1409:a:398::5a2\n",
      "Connecting to www.newyorkfed.org (www.newyorkfed.org)|23.41.189.72|:443... connected.\n",
      "HTTP request sent, awaiting response... 200 OK\n",
      "Length: 26090094 (25M) [application/vnd.openxmlformats-officedocument.spreadsheetml.sheet]\n",
      "Saving to: ‘FRBNY-SCE-Public-Microdata-Complete.xlsx’\n",
      "\n",
      "100%[======================================>] 26,090,094  13.6MB/s   in 1.8s   \n",
      "\n",
      "2015-12-19 14:19:39 (13.6 MB/s) - ‘FRBNY-SCE-Public-Microdata-Complete.xlsx’ saved [26090094/26090094]\n",
      "\n",
      "--2015-12-19 14:19:39--  https://www.newyorkfed.org/medialibrary/interactives/sce/sce/downloads/data/FRBNY-SCE-Data.xls?version=2.1.3.9\n",
      "Resolving www.newyorkfed.org (www.newyorkfed.org)... 23.41.189.72, 2600:1409:a:398::5a2, 2600:1409:a:382::5a2\n",
      "Connecting to www.newyorkfed.org (www.newyorkfed.org)|23.41.189.72|:443... connected.\n",
      "HTTP request sent, awaiting response... 200 OK\n",
      "Length: 268800 (262K) [application/vnd.ms-excel]\n",
      "Saving to: ‘FRBNY-SCE-Data.xls?version=2.1.3.9’\n",
      "\n",
      "100%[======================================>] 268,800     --.-K/s   in 0.02s   \n",
      "\n",
      "2015-12-19 14:19:39 (11.4 MB/s) - ‘FRBNY-SCE-Data.xls?version=2.1.3.9’ saved [268800/268800]\n",
      "\n"
     ]
    }
   ],
   "source": [
    "!wget https://www.newyorkfed.org/medialibrary/Interactives/sce/sce/downloads/data/FRBNY-SCE-Public-Microdata-Complete.xlsx\n",
    "!wget https://www.newyorkfed.org/medialibrary/interactives/sce/sce/downloads/data/FRBNY-SCE-Data.xls?version=2.1.3.9"
   ]
  },
  {
   "cell_type": "code",
   "execution_count": 5,
   "metadata": {
    "collapsed": false
   },
   "outputs": [
    {
     "name": "stdout",
     "output_type": "stream",
     "text": [
      "total 26M\r\n",
      "-rw-rw-r-- 1 ubuntu ubuntu 263K Dec  2 17:38 FRBNY-SCE-Data.xls?version=2.1.3.9\r\n",
      "-rw-rw-r-- 1 ubuntu ubuntu  25M Dec 11 21:27 FRBNY-SCE-Public-Microdata-Complete.xlsx\r\n",
      "-rw-rw-r-- 1 ubuntu ubuntu  11K Dec 18 21:38 IS602_FinalProject_JHamski.ipynb\r\n",
      "-rw-rw-r-- 1 ubuntu ubuntu  118 Nov 28 20:11 README.md\r\n",
      "-rw-rw-r-- 1 ubuntu ubuntu  18K Dec  6 16:23 test.png\r\n"
     ]
    }
   ],
   "source": [
    "#confirm the files appear in the active directory\n",
    "!ls -lh"
   ]
  },
  {
   "cell_type": "code",
   "execution_count": 6,
   "metadata": {
    "collapsed": false
   },
   "outputs": [],
   "source": [
    "data_excel_1 = 'FRBNY-SCE-Data.xls?version=2.1.3.9'\n",
    "#headers1 = ['month', 'median_exp_growth', '25th_exp_growth', '75th_exp_growth', 'median_point_prediction']\n",
    "data_results = pd.read_excel(data_excel_1, 'Earnings growth', header=3, skip_rows=4, parse_dates=True, index_col=None)\n",
    "data_results_demo = pd.read_excel(data_excel_1, 'Earnings growth Demo', header=3, skip_rows=4, index_col=None)"
   ]
  },
  {
   "cell_type": "code",
   "execution_count": 7,
   "metadata": {
    "collapsed": false
   },
   "outputs": [],
   "source": [
    "data_excel_2 = 'FRBNY-SCE-Public-Microdata-Complete.xlsx'\n",
    "microdata = pd.read_excel(data_excel_2, 'Data', header=1, skip_rows=2)"
   ]
  },
  {
   "cell_type": "markdown",
   "metadata": {},
   "source": [
    "### 3. Data Cleaning and Formatting"
   ]
  },
  {
   "cell_type": "markdown",
   "metadata": {},
   "source": [
    "First, I reconfigure the data_results dataframe object. This shows summary statistics for the expected income growth survey results (median, 2th and 75th, median point prediction). "
   ]
  },
  {
   "cell_type": "code",
   "execution_count": 8,
   "metadata": {
    "collapsed": false
   },
   "outputs": [
    {
     "data": {
      "text/html": [
       "<div>\n",
       "<table border=\"1\" class=\"dataframe\">\n",
       "  <thead>\n",
       "    <tr style=\"text-align: right;\">\n",
       "      <th></th>\n",
       "      <th>Month</th>\n",
       "      <th>Median expected earnings growth</th>\n",
       "      <th>25th Percentile expected earnings growth</th>\n",
       "      <th>75th Percentile expected earnings growth</th>\n",
       "      <th>Median point prediction</th>\n",
       "    </tr>\n",
       "  </thead>\n",
       "  <tbody>\n",
       "    <tr>\n",
       "      <th>0</th>\n",
       "      <td>2013-06-01</td>\n",
       "      <td>2.00</td>\n",
       "      <td>0.95</td>\n",
       "      <td>3.53</td>\n",
       "      <td>2.28</td>\n",
       "    </tr>\n",
       "    <tr>\n",
       "      <th>1</th>\n",
       "      <td>2013-07-01</td>\n",
       "      <td>2.00</td>\n",
       "      <td>1.00</td>\n",
       "      <td>3.02</td>\n",
       "      <td>2.38</td>\n",
       "    </tr>\n",
       "    <tr>\n",
       "      <th>2</th>\n",
       "      <td>2013-08-01</td>\n",
       "      <td>2.07</td>\n",
       "      <td>1.00</td>\n",
       "      <td>3.55</td>\n",
       "      <td>2.39</td>\n",
       "    </tr>\n",
       "    <tr>\n",
       "      <th>3</th>\n",
       "      <td>2013-09-01</td>\n",
       "      <td>2.00</td>\n",
       "      <td>1.00</td>\n",
       "      <td>3.52</td>\n",
       "      <td>2.20</td>\n",
       "    </tr>\n",
       "    <tr>\n",
       "      <th>4</th>\n",
       "      <td>2013-10-01</td>\n",
       "      <td>1.90</td>\n",
       "      <td>1.00</td>\n",
       "      <td>3.61</td>\n",
       "      <td>2.15</td>\n",
       "    </tr>\n",
       "  </tbody>\n",
       "</table>\n",
       "</div>"
      ],
      "text/plain": [
       "       Month  Median expected earnings growth  \\\n",
       "0 2013-06-01                             2.00   \n",
       "1 2013-07-01                             2.00   \n",
       "2 2013-08-01                             2.07   \n",
       "3 2013-09-01                             2.00   \n",
       "4 2013-10-01                             1.90   \n",
       "\n",
       "   25th Percentile expected earnings growth  \\\n",
       "0                                      0.95   \n",
       "1                                      1.00   \n",
       "2                                      1.00   \n",
       "3                                      1.00   \n",
       "4                                      1.00   \n",
       "\n",
       "   75th Percentile expected earnings growth  Median point prediction  \n",
       "0                                      3.53                     2.28  \n",
       "1                                      3.02                     2.38  \n",
       "2                                      3.55                     2.39  \n",
       "3                                      3.52                     2.20  \n",
       "4                                      3.61                     2.15  "
      ]
     },
     "execution_count": 8,
     "metadata": {},
     "output_type": "execute_result"
    }
   ],
   "source": [
    "data_results.reset_index(level=0, inplace=True)\n",
    "data_results.rename(columns = {'index':'Month'}, inplace = True)\n",
    "data_results['Month'] = pd.to_datetime(data_results['Month'], errors='coerce', format='%Y%m')\n",
    "data_results.head()"
   ]
  },
  {
   "cell_type": "code",
   "execution_count": 10,
   "metadata": {
    "collapsed": false
   },
   "outputs": [
    {
     "data": {
      "text/html": [
       "<div>\n",
       "<table border=\"1\" class=\"dataframe\">\n",
       "  <thead>\n",
       "    <tr style=\"text-align: right;\">\n",
       "      <th></th>\n",
       "      <th>Month</th>\n",
       "      <th>Age Under 40</th>\n",
       "      <th>Age 40-60</th>\n",
       "      <th>Age Over 60</th>\n",
       "      <th>Education High School or Less</th>\n",
       "      <th>Education Some College</th>\n",
       "      <th>Education BA or Higher</th>\n",
       "      <th>Income under 50k</th>\n",
       "      <th>Income 50-100k</th>\n",
       "      <th>Income Over 100k</th>\n",
       "      <th>Numeracy Low</th>\n",
       "      <th>Numeracy High</th>\n",
       "      <th>Region West</th>\n",
       "      <th>Region Midwest</th>\n",
       "      <th>Region South</th>\n",
       "      <th>Region Northeast</th>\n",
       "    </tr>\n",
       "  </thead>\n",
       "  <tbody>\n",
       "    <tr>\n",
       "      <th>0</th>\n",
       "      <td>2013-06-01</td>\n",
       "      <td>3.00</td>\n",
       "      <td>1.46</td>\n",
       "      <td>1.29</td>\n",
       "      <td>1.54</td>\n",
       "      <td>1.71</td>\n",
       "      <td>2.31</td>\n",
       "      <td>1.28</td>\n",
       "      <td>2.11</td>\n",
       "      <td>2.28</td>\n",
       "      <td>2.00</td>\n",
       "      <td>2.00</td>\n",
       "      <td>1.55</td>\n",
       "      <td>2.50</td>\n",
       "      <td>1.54</td>\n",
       "      <td>1.95</td>\n",
       "    </tr>\n",
       "    <tr>\n",
       "      <th>1</th>\n",
       "      <td>2013-07-01</td>\n",
       "      <td>2.62</td>\n",
       "      <td>1.45</td>\n",
       "      <td>1.29</td>\n",
       "      <td>2.00</td>\n",
       "      <td>1.27</td>\n",
       "      <td>2.42</td>\n",
       "      <td>1.55</td>\n",
       "      <td>1.63</td>\n",
       "      <td>2.00</td>\n",
       "      <td>1.00</td>\n",
       "      <td>2.19</td>\n",
       "      <td>1.29</td>\n",
       "      <td>2.45</td>\n",
       "      <td>1.40</td>\n",
       "      <td>2.00</td>\n",
       "    </tr>\n",
       "    <tr>\n",
       "      <th>2</th>\n",
       "      <td>2013-08-01</td>\n",
       "      <td>2.91</td>\n",
       "      <td>1.94</td>\n",
       "      <td>1.29</td>\n",
       "      <td>2.00</td>\n",
       "      <td>2.15</td>\n",
       "      <td>2.38</td>\n",
       "      <td>2.03</td>\n",
       "      <td>2.00</td>\n",
       "      <td>2.45</td>\n",
       "      <td>2.00</td>\n",
       "      <td>2.19</td>\n",
       "      <td>2.03</td>\n",
       "      <td>2.37</td>\n",
       "      <td>2.15</td>\n",
       "      <td>2.00</td>\n",
       "    </tr>\n",
       "    <tr>\n",
       "      <th>3</th>\n",
       "      <td>2013-09-01</td>\n",
       "      <td>2.50</td>\n",
       "      <td>2.00</td>\n",
       "      <td>1.46</td>\n",
       "      <td>2.00</td>\n",
       "      <td>2.00</td>\n",
       "      <td>2.45</td>\n",
       "      <td>1.61</td>\n",
       "      <td>2.00</td>\n",
       "      <td>2.59</td>\n",
       "      <td>1.61</td>\n",
       "      <td>2.00</td>\n",
       "      <td>2.00</td>\n",
       "      <td>1.69</td>\n",
       "      <td>2.18</td>\n",
       "      <td>1.39</td>\n",
       "    </tr>\n",
       "    <tr>\n",
       "      <th>4</th>\n",
       "      <td>2013-10-01</td>\n",
       "      <td>2.45</td>\n",
       "      <td>1.60</td>\n",
       "      <td>1.60</td>\n",
       "      <td>1.55</td>\n",
       "      <td>1.46</td>\n",
       "      <td>2.42</td>\n",
       "      <td>1.46</td>\n",
       "      <td>1.58</td>\n",
       "      <td>2.50</td>\n",
       "      <td>1.55</td>\n",
       "      <td>2.00</td>\n",
       "      <td>2.25</td>\n",
       "      <td>1.87</td>\n",
       "      <td>1.75</td>\n",
       "      <td>1.75</td>\n",
       "    </tr>\n",
       "  </tbody>\n",
       "</table>\n",
       "</div>"
      ],
      "text/plain": [
       "       Month  Age Under 40  Age 40-60  Age Over 60  \\\n",
       "0 2013-06-01          3.00       1.46         1.29   \n",
       "1 2013-07-01          2.62       1.45         1.29   \n",
       "2 2013-08-01          2.91       1.94         1.29   \n",
       "3 2013-09-01          2.50       2.00         1.46   \n",
       "4 2013-10-01          2.45       1.60         1.60   \n",
       "\n",
       "   Education High School or Less  Education Some College  \\\n",
       "0                           1.54                    1.71   \n",
       "1                           2.00                    1.27   \n",
       "2                           2.00                    2.15   \n",
       "3                           2.00                    2.00   \n",
       "4                           1.55                    1.46   \n",
       "\n",
       "   Education BA or Higher  Income under 50k  Income 50-100k  Income Over 100k  \\\n",
       "0                    2.31              1.28            2.11              2.28   \n",
       "1                    2.42              1.55            1.63              2.00   \n",
       "2                    2.38              2.03            2.00              2.45   \n",
       "3                    2.45              1.61            2.00              2.59   \n",
       "4                    2.42              1.46            1.58              2.50   \n",
       "\n",
       "   Numeracy Low  Numeracy High  Region West  Region Midwest  Region South  \\\n",
       "0          2.00           2.00         1.55            2.50          1.54   \n",
       "1          1.00           2.19         1.29            2.45          1.40   \n",
       "2          2.00           2.19         2.03            2.37          2.15   \n",
       "3          1.61           2.00         2.00            1.69          2.18   \n",
       "4          1.55           2.00         2.25            1.87          1.75   \n",
       "\n",
       "   Region Northeast  \n",
       "0              1.95  \n",
       "1              2.00  \n",
       "2              2.00  \n",
       "3              1.39  \n",
       "4              1.75  "
      ]
     },
     "execution_count": 10,
     "metadata": {},
     "output_type": "execute_result"
    }
   ],
   "source": [
    "data_results_demo.reset_index(level=0, inplace=True)\n",
    "data_results_demo.rename(columns = {'index':'Month'}, inplace = True)\n",
    "data_results_demo['Month'] = pd.to_datetime(data_results_demo['Month'], errors='coerce', format='%Y%m')\n",
    "data_results_demo.head()"
   ]
  },
  {
   "cell_type": "code",
   "execution_count": 11,
   "metadata": {
    "collapsed": false
   },
   "outputs": [
    {
     "data": {
      "text/html": [
       "<div>\n",
       "<table border=\"1\" class=\"dataframe\">\n",
       "  <thead>\n",
       "    <tr style=\"text-align: right;\">\n",
       "      <th></th>\n",
       "      <th>Month</th>\n",
       "      <th>userid</th>\n",
       "      <th>tenure</th>\n",
       "      <th>weight</th>\n",
       "      <th>Q1</th>\n",
       "      <th>Q2</th>\n",
       "      <th>Q3</th>\n",
       "      <th>Q4new</th>\n",
       "      <th>Q5new</th>\n",
       "      <th>Q6new</th>\n",
       "      <th>...</th>\n",
       "      <th>Q47</th>\n",
       "      <th>D1</th>\n",
       "      <th>D3</th>\n",
       "      <th>DSAME</th>\n",
       "      <th>_AGE_CAT</th>\n",
       "      <th>_NUM_CAT</th>\n",
       "      <th>_REGION_CAT</th>\n",
       "      <th>_EDU_CAT</th>\n",
       "      <th>_HH_INC_CAT</th>\n",
       "      <th>_HH_INC_CAT.1</th>\n",
       "    </tr>\n",
       "  </thead>\n",
       "  <tbody>\n",
       "    <tr>\n",
       "      <th>0</th>\n",
       "      <td>2013-06-01</td>\n",
       "      <td>70000220</td>\n",
       "      <td>6</td>\n",
       "      <td>16.327999</td>\n",
       "      <td>3</td>\n",
       "      <td>3</td>\n",
       "      <td>50</td>\n",
       "      <td>20</td>\n",
       "      <td>10</td>\n",
       "      <td>15</td>\n",
       "      <td>...</td>\n",
       "      <td>3</td>\n",
       "      <td>1</td>\n",
       "      <td>2</td>\n",
       "      <td>NaN</td>\n",
       "      <td>Under 40</td>\n",
       "      <td>High</td>\n",
       "      <td>West</td>\n",
       "      <td>Some College</td>\n",
       "      <td>Under 50k</td>\n",
       "      <td>Under 50k</td>\n",
       "    </tr>\n",
       "    <tr>\n",
       "      <th>1</th>\n",
       "      <td>2013-06-01</td>\n",
       "      <td>70000224</td>\n",
       "      <td>7</td>\n",
       "      <td>0.228000</td>\n",
       "      <td>4</td>\n",
       "      <td>4</td>\n",
       "      <td>25</td>\n",
       "      <td>10</td>\n",
       "      <td>25</td>\n",
       "      <td>75</td>\n",
       "      <td>...</td>\n",
       "      <td>11</td>\n",
       "      <td>1</td>\n",
       "      <td>2</td>\n",
       "      <td>NaN</td>\n",
       "      <td>Over 60</td>\n",
       "      <td>High</td>\n",
       "      <td>Midwest</td>\n",
       "      <td>College</td>\n",
       "      <td>Over 100k</td>\n",
       "      <td>Over 100k</td>\n",
       "    </tr>\n",
       "    <tr>\n",
       "      <th>2</th>\n",
       "      <td>2013-06-01</td>\n",
       "      <td>70000234</td>\n",
       "      <td>6</td>\n",
       "      <td>4.066000</td>\n",
       "      <td>4</td>\n",
       "      <td>3</td>\n",
       "      <td>3</td>\n",
       "      <td>9</td>\n",
       "      <td>20</td>\n",
       "      <td>20</td>\n",
       "      <td>...</td>\n",
       "      <td>9</td>\n",
       "      <td>1</td>\n",
       "      <td>2</td>\n",
       "      <td>NaN</td>\n",
       "      <td>40 to 60</td>\n",
       "      <td>High</td>\n",
       "      <td>West</td>\n",
       "      <td>Some College</td>\n",
       "      <td>Over 100k</td>\n",
       "      <td>Over 100k</td>\n",
       "    </tr>\n",
       "    <tr>\n",
       "      <th>3</th>\n",
       "      <td>2013-06-01</td>\n",
       "      <td>70000238</td>\n",
       "      <td>6</td>\n",
       "      <td>3.035000</td>\n",
       "      <td>3</td>\n",
       "      <td>3</td>\n",
       "      <td>0</td>\n",
       "      <td>10</td>\n",
       "      <td>5</td>\n",
       "      <td>70</td>\n",
       "      <td>...</td>\n",
       "      <td>4</td>\n",
       "      <td>1</td>\n",
       "      <td>2</td>\n",
       "      <td>NaN</td>\n",
       "      <td>Over 60</td>\n",
       "      <td>Low</td>\n",
       "      <td>West</td>\n",
       "      <td>Some College</td>\n",
       "      <td>Under 50k</td>\n",
       "      <td>Under 50k</td>\n",
       "    </tr>\n",
       "    <tr>\n",
       "      <th>4</th>\n",
       "      <td>2013-07-01</td>\n",
       "      <td>70000238</td>\n",
       "      <td>7</td>\n",
       "      <td>1.867000</td>\n",
       "      <td>3</td>\n",
       "      <td>3</td>\n",
       "      <td>50</td>\n",
       "      <td>90</td>\n",
       "      <td>0</td>\n",
       "      <td>60</td>\n",
       "      <td>...</td>\n",
       "      <td>5</td>\n",
       "      <td>1</td>\n",
       "      <td>2</td>\n",
       "      <td>NaN</td>\n",
       "      <td>Over 60</td>\n",
       "      <td>Low</td>\n",
       "      <td>West</td>\n",
       "      <td>Some College</td>\n",
       "      <td>Under 50k</td>\n",
       "      <td>Under 50k</td>\n",
       "    </tr>\n",
       "  </tbody>\n",
       "</table>\n",
       "<p>5 rows × 189 columns</p>\n",
       "</div>"
      ],
      "text/plain": [
       "       Month    userid  tenure     weight  Q1  Q2  Q3  Q4new  Q5new  Q6new  \\\n",
       "0 2013-06-01  70000220       6  16.327999   3   3  50     20     10     15   \n",
       "1 2013-06-01  70000224       7   0.228000   4   4  25     10     25     75   \n",
       "2 2013-06-01  70000234       6   4.066000   4   3   3      9     20     20   \n",
       "3 2013-06-01  70000238       6   3.035000   3   3   0     10      5     70   \n",
       "4 2013-07-01  70000238       7   1.867000   3   3  50     90      0     60   \n",
       "\n",
       "       ...        Q47  D1  D3  DSAME  _AGE_CAT  _NUM_CAT  _REGION_CAT  \\\n",
       "0      ...          3   1   2    NaN  Under 40      High         West   \n",
       "1      ...         11   1   2    NaN   Over 60      High      Midwest   \n",
       "2      ...          9   1   2    NaN  40 to 60      High         West   \n",
       "3      ...          4   1   2    NaN   Over 60       Low         West   \n",
       "4      ...          5   1   2    NaN   Over 60       Low         West   \n",
       "\n",
       "       _EDU_CAT  _HH_INC_CAT  _HH_INC_CAT.1  \n",
       "0  Some College    Under 50k      Under 50k  \n",
       "1       College    Over 100k      Over 100k  \n",
       "2  Some College    Over 100k      Over 100k  \n",
       "3  Some College    Under 50k      Under 50k  \n",
       "4  Some College    Under 50k      Under 50k  \n",
       "\n",
       "[5 rows x 189 columns]"
      ]
     },
     "execution_count": 11,
     "metadata": {},
     "output_type": "execute_result"
    }
   ],
   "source": [
    "microdata['date'] = pd.to_datetime(microdata['date'], errors='coerce', format='%Y%m')\n",
    "microdata.rename(columns = {'date':'Month'}, inplace = True)\n",
    "microdata.head()"
   ]
  },
  {
   "cell_type": "markdown",
   "metadata": {},
   "source": [
    "### 4. Exploratory Data Analysis"
   ]
  },
  {
   "cell_type": "markdown",
   "metadata": {
    "collapsed": true
   },
   "source": [
    "The FRBNY asks survey respondents what they expect their income to be in one year using two methods - first, by asking them to place it in a bucket (i.e. \"2% to 4%\") or for an open-ended point prediction:\n",
    "\n",
    "*Median expected earnings growth  \n",
    "Respondents who report working full time, part time, being temporarily laid off or on sick leave are\n",
    "asked for the percent chance that 12 months from now their earnings, before taxes and deductions,\n",
    "will have increased (decreased) by 12% or more; by 8% to 12%; by 4% to 8%; by 2% to 4%; by 0% to\n",
    "2% (assuming that 12 months from now they are working in the exact same job at the same place\n",
    "they currently work, and working the exact same number of hours). A generalized beta distribution is\n",
    "fitted to the responses of each survey participant and the mean of this distribution is calculated. We\n",
    "call this mean the respondent’s “expected earnings growth”. Variable 1 is the median across all\n",
    "respondents of their expected earnings growth rates.* \n",
    "\n",
    "*Median point prediction  \n",
    "Respondents who report working full time, part time, being temporarily laid off or on sick leave are\n",
    "asked by how much they expect their earnings to have increased/decreased 12 months from now\n",
    "(assuming that 12 months from now they are working in the exact same job at the same place they\n",
    "currently work, and working the exact same number of hours). This is a point prediction (a singlevalue\n",
    "forecast). Variable 3 is the median across all respondents of their point predictions. Given that\n",
    "almost all respondents, while asked about continuous variables, provide integer responses, throughout in computing medians based on point predictions we treat the responses as rounded\n",
    "grouped data and compute linearly interpolated medians.*"
   ]
  },
  {
   "cell_type": "code",
   "execution_count": 49,
   "metadata": {
    "collapsed": false
   },
   "outputs": [
    {
     "data": {
      "text/plain": [
       "<matplotlib.legend.Legend at 0x7f2861d13490>"
      ]
     },
     "execution_count": 49,
     "metadata": {},
     "output_type": "execute_result"
    },
    {
     "data": {
      "image/png": "[encoded data removed]",
      "text/plain": [
       "<matplotlib.figure.Figure at 0x7f2861d133d0>"
      ]
     },
     "metadata": {},
     "output_type": "display_data"
    }
   ],
   "source": [
    "results = data_results.set_index(keys='Month', drop=True)\n",
    "results.plot().legend(loc='upper center', bbox_to_anchor=(0.5, -0.05))"
   ]
  },
  {
   "cell_type": "markdown",
   "metadata": {},
   "source": [
    "The 25th Percentile expected earnings growth is 1.0 for all months surveyed except for the first month. I'm not entirely certain why this is the case - there must be a constraint on the survey response.\n",
    "\n",
    "Viewing histograms of the median and median point prediction shows that over the period from June 2013 through November 2015, asking someone an open ended \"How much do you anticipate your income to increase by?\" and recording the numeric response results similarly bounded responses compared to if they are given a pecent range options. "
   ]
  },
  {
   "cell_type": "code",
   "execution_count": 53,
   "metadata": {
    "collapsed": false
   },
   "outputs": [
    {
     "data": {
      "image/png": "[encoded data removed]",
      "text/plain": [
       "<matplotlib.figure.Figure at 0x7f2861b39950>"
      ]
     },
     "metadata": {},
     "output_type": "display_data"
    }
   ],
   "source": [
    "n_bins = 10\n",
    "\n",
    "fig, axes = plt.subplots(nrows=1, ncols=2, sharey=True)\n",
    "ax0, ax1 = axes.flat\n",
    "\n",
    "ax0.hist(data_results['Median expected earnings growth'], n_bins, normed=1, histtype='bar')\n",
    "ax0.set_title('Median')\n",
    "\n",
    "ax1.hist(data_results['Median point prediction'], n_bins, normed=1, histtype='bar')\n",
    "ax1.set_title('Median point prediction')\n",
    "\n",
    "plt.tight_layout()\n",
    "\n",
    "plt.show()"
   ]
  },
  {
   "cell_type": "markdown",
   "metadata": {},
   "source": [
    "One would intuitively expect income growth expectations to vary based on demographic information. An early-career professional with a college degree should expect their income to increase, a late-career respondent with less education should expect their income growth to be lower. The FRBNY survey includes several demographic data categories that allow these assumptions to be tested. "
   ]
  },
  {
   "cell_type": "code",
   "execution_count": 98,
   "metadata": {
    "collapsed": false,
    "scrolled": true
   },
   "outputs": [
    {
     "data": {
      "image/png": "[encoded data removed]",
      "text/plain": [
       "<matplotlib.figure.Figure at 0x7f28618bbf90>"
      ]
     },
     "metadata": {},
     "output_type": "display_data"
    }
   ],
   "source": [
    "results_demo = data_results_demo.set_index(keys='Month', drop=True)\n",
    "\n",
    "fig, axes = plt.subplots(nrows=5, ncols=1, sharex=True)\n",
    "ax0, ax1, ax2, ax3, ax4 = axes.flat\n",
    "\n",
    "ax0.plot(results_demo.ix[:,0:3])\n",
    "\n",
    "ax1.plot(results_demo.ix[:,3:6])\n",
    "\n",
    "ax2.plot(results_demo.ix[:,6:9])\n",
    "\n",
    "ax3.plot(results_demo.ix[:,9:11])\n",
    "\n",
    "ax4.plot(results_demo.ix[:,11:15])\n",
    "\n",
    "plt.tight_layout()\n",
    "\n",
    "plt.subplots_adjust(hspace = 0.001)\n",
    "\n",
    "plt.show()"
   ]
  },
  {
   "cell_type": "markdown",
   "metadata": {},
   "source": [
    "### 5. What sort of dollar-amount increase do respondents expect?"
   ]
  },
  {
   "cell_type": "markdown",
   "metadata": {},
   "source": [
    "In finance and economics, data presented as a percentage or summary statistic is ubiquitous. This is of course the proper way to deal with data in aggregate. However, economics is all about thinking \"on the margin\" - the cost or benefit of each additional unit of something isn't constant, it depends on the context of how much you already have. A dollar means much more to the person with just a few dollars to their name compared to someone will thousands in the bank.\n",
    "\n",
    "So, when a respondent to the FRBNY "
   ]
  },
  {
   "cell_type": "code",
   "execution_count": 27,
   "metadata": {
    "collapsed": false
   },
   "outputs": [
    {
     "data": {
      "text/plain": [
       "['Month',\n",
       " u'userid',\n",
       " u'tenure',\n",
       " u'weight',\n",
       " u'Q1',\n",
       " u'Q2',\n",
       " u'Q3',\n",
       " u'Q4new',\n",
       " u'Q5new',\n",
       " u'Q6new',\n",
       " u'Q8v2',\n",
       " u'Q8v2part2',\n",
       " u'Q9_mean',\n",
       " u'Q9_iqr',\n",
       " u'Q9_median',\n",
       " u'Q9_probdeflation',\n",
       " u'Q9_bin1',\n",
       " u'Q9_bin2',\n",
       " u'Q9_bin3',\n",
       " u'Q9_bin4',\n",
       " u'Q9_bin5',\n",
       " u'Q9_bin6',\n",
       " u'Q9_bin7',\n",
       " u'Q9_bin8',\n",
       " u'Q9_bin9',\n",
       " u'Q9_bin10',\n",
       " u'Q9_quant1',\n",
       " u'Q9_quant2',\n",
       " u'Q9_var',\n",
       " u'Q9bv2',\n",
       " u'Q9bv2part2',\n",
       " u'Q9c_mean',\n",
       " u'Q9c_iqr',\n",
       " u'Q9c_median',\n",
       " u'Q9c_probdeflation',\n",
       " u'Q9c_bin1',\n",
       " u'Q9c_bin2',\n",
       " u'Q9c_bin3',\n",
       " u'Q9c_bin4',\n",
       " u'Q9c_bin5',\n",
       " u'Q9c_bin6',\n",
       " u'Q9c_bin7',\n",
       " u'Q9c_bin8',\n",
       " u'Q9c_bin9',\n",
       " u'Q9c_bin10',\n",
       " u'Q9c_quant1',\n",
       " u'Q9c_quant2',\n",
       " u'Q9c_var',\n",
       " u'Q10_1',\n",
       " u'Q10_2',\n",
       " u'Q10_3',\n",
       " u'Q10_4',\n",
       " u'Q10_5',\n",
       " u'Q10_6',\n",
       " u'Q10_7',\n",
       " u'Q10_8',\n",
       " u'Q10_9',\n",
       " u'Q10_10',\n",
       " u'Q11',\n",
       " u'Q12new',\n",
       " u'ES1_1',\n",
       " u'ES1_2',\n",
       " u'ES1_3',\n",
       " u'ES1_4',\n",
       " u'ES2',\n",
       " u'ES3new',\n",
       " u'ES4',\n",
       " u'ES5',\n",
       " u'Q13new',\n",
       " u'Q14new',\n",
       " u'Q15',\n",
       " u'Q16',\n",
       " u'Q17new',\n",
       " u'Q18new',\n",
       " u'Q19',\n",
       " u'Q20new',\n",
       " u'Q21new',\n",
       " u'Q22new',\n",
       " u'Q23v2',\n",
       " u'Q23v2part2',\n",
       " u'Q24_mean',\n",
       " u'Q24_iqr',\n",
       " u'Q24_median',\n",
       " u'Q24_probdeflation',\n",
       " u'Q24_bin1',\n",
       " u'Q24_bin2',\n",
       " u'Q24_bin3',\n",
       " u'Q24_bin4',\n",
       " u'Q24_bin5',\n",
       " u'Q24_bin6',\n",
       " u'Q24_bin7',\n",
       " u'Q24_bin8',\n",
       " u'Q24_bin9',\n",
       " u'Q24_bin10',\n",
       " u'Q24_quant1',\n",
       " u'Q24_quant2',\n",
       " u'Q24_var',\n",
       " u'Q25v2',\n",
       " u'Q25v2part2',\n",
       " u'Q26v2',\n",
       " u'Q26v2part2',\n",
       " u'Q27v2',\n",
       " u'Q27v2part2',\n",
       " u'Q28',\n",
       " u'Q29',\n",
       " u'Q30new',\n",
       " u'Q31v2',\n",
       " u'Q31v2part2',\n",
       " u'C1_mean',\n",
       " u'C1_iqr',\n",
       " u'C1_median',\n",
       " u'C1_probdeflation',\n",
       " u'C1_bin1',\n",
       " u'C1_bin2',\n",
       " u'C1_bin3',\n",
       " u'C1_bin4',\n",
       " u'C1_bin5',\n",
       " u'C1_bin6',\n",
       " u'C1_bin7',\n",
       " u'C1_bin8',\n",
       " u'C1_bin9',\n",
       " u'C1_bin10',\n",
       " u'C1_quant1',\n",
       " u'C1_quant2',\n",
       " u'C1_var',\n",
       " u'C2',\n",
       " u'C2part2',\n",
       " u'C3',\n",
       " u'C3part2',\n",
       " u'C4_1',\n",
       " u'C4_2',\n",
       " u'C4_3',\n",
       " u'C4_4',\n",
       " u'C4_5',\n",
       " u'C4_6',\n",
       " u'QNUM1',\n",
       " u'QNUM2',\n",
       " u'QNUM3',\n",
       " u'QNUM5',\n",
       " u'QNUM6',\n",
       " u'Q32',\n",
       " u'Q33',\n",
       " u'Q34',\n",
       " u'Q35_1',\n",
       " u'Q35_2',\n",
       " u'Q35_3',\n",
       " u'Q35_4',\n",
       " u'Q35_5',\n",
       " u'Q35_6',\n",
       " u'Q36',\n",
       " u'Q37',\n",
       " u'Q38',\n",
       " u'HH2_1',\n",
       " u'HH2_2',\n",
       " u'HH2_3',\n",
       " u'HH2_4',\n",
       " u'HH2_5',\n",
       " u'HH2_6',\n",
       " u'HH2_7',\n",
       " u'HH2_8',\n",
       " u'HH2_9',\n",
       " u'HH2_10',\n",
       " u'HH2_11',\n",
       " u'_STATE',\n",
       " u'Q41',\n",
       " u'Q42',\n",
       " u'Q43',\n",
       " u'Q43a',\n",
       " u'Q44',\n",
       " u'Q45new_1',\n",
       " u'Q45new_2',\n",
       " u'Q45new_3',\n",
       " u'Q45new_4',\n",
       " u'Q45new_5',\n",
       " u'Q45new_6',\n",
       " u'Q45new_7',\n",
       " u'Q45new_8',\n",
       " u'Q45new_9',\n",
       " u'Q46',\n",
       " u'Q47',\n",
       " u'D1',\n",
       " u'D3',\n",
       " u'DSAME',\n",
       " u'_AGE_CAT',\n",
       " u'_NUM_CAT',\n",
       " u'_REGION_CAT',\n",
       " u'_EDU_CAT',\n",
       " u'_HH_INC_CAT',\n",
       " u'_HH_INC_CAT.1']"
      ]
     },
     "execution_count": 27,
     "metadata": {},
     "output_type": "execute_result"
    }
   ],
   "source": [
    "list(microdata.columns.values)"
   ]
  },
  {
   "cell_type": "markdown",
   "metadata": {},
   "source": [
    "### 6. Do Salary Expectations Vary With Macroeconomic Indicators?"
   ]
  },
  {
   "cell_type": "code",
   "execution_count": null,
   "metadata": {
    "collapsed": true
   },
   "outputs": [],
   "source": []
  },
  {
   "cell_type": "markdown",
   "metadata": {},
   "source": [
    "### Postscript\n",
    "\n",
    "Microeconomic survey analysis is a specialty unto itself that I do not have any particular education or expertise in. The conclusions drawn here are "
   ]
  }
 ],
 "metadata": {
  "kernelspec": {
   "display_name": "Python 2",
   "language": "python",
   "name": "python2"
  },
  "language_info": {
   "codemirror_mode": {
    "name": "ipython",
    "version": 2
   },
   "file_extension": ".py",
   "mimetype": "text/x-python",
   "name": "python",
   "nbconvert_exporter": "python",
   "pygments_lexer": "ipython2",
   "version": "2.7.10"
  }
 },
 "nbformat": 4,
 "nbformat_minor": 0
}
